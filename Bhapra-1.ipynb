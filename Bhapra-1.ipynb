{
 "cells": [
  {
   "cell_type": "code",
   "execution_count": 0,
   "metadata": {
    "application/vnd.databricks.v1+cell": {
     "cellMetadata": {
      "byteLimit": 2048000,
      "rowLimit": 10000
     },
     "inputWidgets": {},
     "nuid": "96d6dc05-c14d-416d-99fa-45851d5356a3",
     "showTitle": false,
     "tableResultSettingsMap": {},
     "title": ""
    }
   },
   "outputs": [
    {
     "output_type": "display_data",
     "data": {
      "text/html": [
       "\n",
       "        <div>\n",
       "            <p><b>SparkContext</b></p>\n",
       "\n",
       "            <p><a href=\"/?o=4021229341370975#setting/sparkui/0228-171953-a0mmp2kb/driver-5212875047205904724\">Spark UI</a></p>\n",
       "\n",
       "            <dl>\n",
       "              <dt>Version</dt>\n",
       "                <dd><code>v3.3.2</code></dd>\n",
       "              <dt>Master</dt>\n",
       "                <dd><code>local[8]</code></dd>\n",
       "              <dt>AppName</dt>\n",
       "                <dd><code>Databricks Shell</code></dd>\n",
       "            </dl>\n",
       "        </div>\n",
       "        "
      ]
     },
     "metadata": {
      "application/vnd.databricks.v1+output": {
       "addedWidgets": {},
       "arguments": {},
       "data": "\n        <div>\n            <p><b>SparkContext</b></p>\n\n            <p><a href=\"/?o=4021229341370975#setting/sparkui/0228-171953-a0mmp2kb/driver-5212875047205904724\">Spark UI</a></p>\n\n            <dl>\n              <dt>Version</dt>\n                <dd><code>v3.3.2</code></dd>\n              <dt>Master</dt>\n                <dd><code>local[8]</code></dd>\n              <dt>AppName</dt>\n                <dd><code>Databricks Shell</code></dd>\n            </dl>\n        </div>\n        ",
       "datasetInfos": [],
       "metadata": {},
       "removedWidgets": [],
       "textData": null,
       "type": "htmlSandbox"
      }
     },
     "output_type": "display_data"
    }
   ],
   "source": [
    "sc"
   ]
  },
  {
   "cell_type": "markdown",
   "metadata": {
    "application/vnd.databricks.v1+cell": {
     "cellMetadata": {},
     "inputWidgets": {},
     "nuid": "c7c02ca8-96db-4d64-a12a-713fbd8ba35a",
     "showTitle": false,
     "tableResultSettingsMap": {},
     "title": ""
    }
   },
   "source": [
    "# **# Create RDD from a Python Collection**\n",
    "\n"
   ]
  },
  {
   "cell_type": "markdown",
   "metadata": {
    "application/vnd.databricks.v1+cell": {
     "cellMetadata": {},
     "inputWidgets": {},
     "nuid": "7c0ec22b-bd04-49fa-89dd-4ce068abdc17",
     "showTitle": false,
     "tableResultSettingsMap": {},
     "title": ""
    }
   },
   "source": [
    "## **Creating RDD by Parallelize an existing collection in your driver program**"
   ]
  },
  {
   "cell_type": "code",
   "execution_count": 0,
   "metadata": {
    "application/vnd.databricks.v1+cell": {
     "cellMetadata": {
      "byteLimit": 2048000,
      "rowLimit": 10000
     },
     "inputWidgets": {},
     "nuid": "6582c684-1f66-4279-8c69-32317596f2af",
     "showTitle": false,
     "tableResultSettingsMap": {},
     "title": ""
    }
   },
   "outputs": [
    {
     "output_type": "stream",
     "name": "stdout",
     "output_type": "stream",
     "text": [
      "[1, 2, 3, 4, 5, 6, 7, 8, 9, 10]\n"
     ]
    }
   ],
   "source": [
    "# Creating an RDD from a list\n",
    "data = [1, 2, 3, 4, 5, 6, 7, 8, 9, 10]\n",
    "rdd = sc.parallelize(data)\n",
    "\n",
    "# Show RDD elements\n",
    "print(rdd.collect())\n"
   ]
  },
  {
   "cell_type": "markdown",
   "metadata": {
    "application/vnd.databricks.v1+cell": {
     "cellMetadata": {},
     "inputWidgets": {},
     "nuid": "c7a00484-8c1d-4cc8-b06d-6b6760aa83e2",
     "showTitle": false,
     "tableResultSettingsMap": {},
     "title": ""
    }
   },
   "source": [
    "## **Creating RDD by referencing a dataset in an external storage system **"
   ]
  },
  {
   "cell_type": "code",
   "execution_count": 0,
   "metadata": {
    "application/vnd.databricks.v1+cell": {
     "cellMetadata": {
      "byteLimit": 2048000,
      "rowLimit": 10000
     },
     "inputWidgets": {},
     "nuid": "9c25ebfa-ccb1-4d9a-8864-87f68306709d",
     "showTitle": false,
     "tableResultSettingsMap": {},
     "title": ""
    }
   },
   "outputs": [
    {
     "output_type": "stream",
     "name": "stdout",
     "output_type": "stream",
     "text": [
      "['Year,First Name,County,Sex,Count', '2013,GAVIN,ST LAWRENCE,M,9', '2013,LEVI,ST LAWRENCE,M,9', '2013,LOGAN,NEW YORK,M,44', '2013,HUDSON,NEW YORK,M,49']\n"
     ]
    }
   ],
   "source": [
    "# Creating an RDD from a text file\n",
    "rdd_text = sc.textFile(\"/FileStore/tables/Baby_Names2.csv\")  # Ensure \"sample.txt\" is in the working directory\n",
    "\n",
    "# Show first 5 lines of the text file\n",
    "print(rdd_text.take(5))\n"
   ]
  },
  {
   "cell_type": "markdown",
   "metadata": {
    "application/vnd.databricks.v1+cell": {
     "cellMetadata": {},
     "inputWidgets": {},
     "nuid": "e00e2804-0e55-4f0d-ada3-20fc32192225",
     "showTitle": false,
     "tableResultSettingsMap": {},
     "title": ""
    }
   },
   "source": [
    "## **Map Transformations**"
   ]
  },
  {
   "cell_type": "markdown",
   "metadata": {
    "application/vnd.databricks.v1+cell": {
     "cellMetadata": {},
     "inputWidgets": {},
     "nuid": "267b5d82-353c-4b10-a65a-78bc0017545c",
     "showTitle": false,
     "tableResultSettingsMap": {},
     "title": ""
    }
   },
   "source": [
    "**Creating RDD by Parallelize an existing collection**"
   ]
  },
  {
   "cell_type": "code",
   "execution_count": 0,
   "metadata": {
    "application/vnd.databricks.v1+cell": {
     "cellMetadata": {
      "byteLimit": 2048000,
      "rowLimit": 10000
     },
     "inputWidgets": {},
     "nuid": "c5d2b5f2-d8c2-4888-b23a-991b2f22378f",
     "showTitle": false,
     "tableResultSettingsMap": {},
     "title": ""
    }
   },
   "outputs": [
    {
     "output_type": "stream",
     "name": "stdout",
     "output_type": "stream",
     "text": [
      "[1, 2, 3, 4, 5, 6, 7, 8, 9, 10]\n"
     ]
    }
   ],
   "source": [
    "# Creating an RDD from a list\n",
    "data = [1, 2, 3, 4, 5, 6, 7, 8, 9, 10]\n",
    "rdd = sc.parallelize(data)\n",
    "\n",
    "# Show RDD elements\n",
    "print(rdd.collect())"
   ]
  },
  {
   "cell_type": "code",
   "execution_count": 0,
   "metadata": {
    "application/vnd.databricks.v1+cell": {
     "cellMetadata": {
      "byteLimit": 2048000,
      "rowLimit": 10000
     },
     "inputWidgets": {},
     "nuid": "c3898b0e-0505-4f58-848e-32239b89556b",
     "showTitle": false,
     "tableResultSettingsMap": {},
     "title": ""
    }
   },
   "outputs": [
    {
     "output_type": "stream",
     "name": "stdout",
     "output_type": "stream",
     "text": [
      "[1, 4, 9, 16, 25, 36, 49, 64, 81, 100]\n"
     ]
    }
   ],
   "source": [
    "rdd_squared = rdd.map(lambda x: x * x)\n",
    "print(rdd_squared.collect())  # [1, 4, 9, 16, 25, 36, 49, 64, 81, 100]"
   ]
  },
  {
   "cell_type": "code",
   "execution_count": 0,
   "metadata": {
    "application/vnd.databricks.v1+cell": {
     "cellMetadata": {
      "byteLimit": 2048000,
      "rowLimit": 10000
     },
     "inputWidgets": {},
     "nuid": "02d080b9-f55c-4b7e-bbd8-60b99706be5d",
     "showTitle": false,
     "tableResultSettingsMap": {},
     "title": ""
    }
   },
   "outputs": [
    {
     "output_type": "stream",
     "name": "stdout",
     "output_type": "stream",
     "text": [
      "[10, 20, 30, 40, 50, 60, 70, 80, 90, 100]\n"
     ]
    }
   ],
   "source": [
    "rdd_calc = rdd.map(lambda Y: Y * 10)\n",
    "print(rdd_calc.collect())  # [1, 4, 9, 16, 25, 36, 49, 64, 81, 100]"
   ]
  },
  {
   "cell_type": "markdown",
   "metadata": {
    "application/vnd.databricks.v1+cell": {
     "cellMetadata": {},
     "inputWidgets": {},
     "nuid": "49099df8-d24b-4d45-a1d1-6274a1db68c9",
     "showTitle": false,
     "tableResultSettingsMap": {},
     "title": ""
    }
   },
   "source": [
    "## filter() – Select elements that match a condition\n",
    "\n"
   ]
  },
  {
   "cell_type": "code",
   "execution_count": 0,
   "metadata": {
    "application/vnd.databricks.v1+cell": {
     "cellMetadata": {
      "byteLimit": 2048000,
      "rowLimit": 10000
     },
     "inputWidgets": {},
     "nuid": "f5f6ee6d-ff3d-4084-9c2f-4c4e34a32482",
     "showTitle": false,
     "tableResultSettingsMap": {},
     "title": ""
    }
   },
   "outputs": [
    {
     "output_type": "stream",
     "name": "stdout",
     "output_type": "stream",
     "text": [
      "[2, 4, 6, 8, 10]\n"
     ]
    }
   ],
   "source": [
    "rdd_even = rdd.filter(lambda x: x % 2 == 0)\n",
    "print(rdd_even.collect())  # [2, 4, 6, 8, 10]"
   ]
  },
  {
   "cell_type": "markdown",
   "metadata": {
    "application/vnd.databricks.v1+cell": {
     "cellMetadata": {},
     "inputWidgets": {},
     "nuid": "96cb792c-1381-44f6-9d9e-00f9fe648872",
     "showTitle": false,
     "tableResultSettingsMap": {},
     "title": ""
    }
   },
   "source": [
    "### flatMap() – Flatten nested results"
   ]
  },
  {
   "cell_type": "code",
   "execution_count": 0,
   "metadata": {
    "application/vnd.databricks.v1+cell": {
     "cellMetadata": {
      "byteLimit": 2048000,
      "rowLimit": 10000
     },
     "inputWidgets": {},
     "nuid": "e54dc8d6-7c13-4280-a8b8-b89f54d29532",
     "showTitle": false,
     "tableResultSettingsMap": {},
     "title": ""
    }
   },
   "outputs": [
    {
     "output_type": "stream",
     "name": "stdout",
     "output_type": "stream",
     "text": [
      "['hello', 'world', 'pyspark', 'tutorial']\n"
     ]
    }
   ],
   "source": [
    "rdd_words = sc.parallelize([\"hello world\", \"pyspark tutorial\"])\n",
    "rdd_flat = rdd_words.flatMap(lambda line: line.split(\" \"))\n",
    "print(rdd_flat.collect())  # ['hello', 'world', 'pyspark', 'tutorial']\n"
   ]
  },
  {
   "cell_type": "markdown",
   "metadata": {
    "application/vnd.databricks.v1+cell": {
     "cellMetadata": {},
     "inputWidgets": {},
     "nuid": "433fcad9-9673-4617-8ccf-93e79c3abd90",
     "showTitle": false,
     "tableResultSettingsMap": {},
     "title": ""
    }
   },
   "source": [
    "### distinct() – Remove duplicate values"
   ]
  },
  {
   "cell_type": "code",
   "execution_count": 0,
   "metadata": {
    "application/vnd.databricks.v1+cell": {
     "cellMetadata": {
      "byteLimit": 2048000,
      "rowLimit": 10000
     },
     "inputWidgets": {},
     "nuid": "8d6ea696-c23d-4c88-9632-ef54f32c0ca8",
     "showTitle": false,
     "tableResultSettingsMap": {},
     "title": ""
    }
   },
   "outputs": [
    {
     "output_type": "stream",
     "name": "stdout",
     "output_type": "stream",
     "text": [
      "[1, 2, 3, 4, 5]\n"
     ]
    }
   ],
   "source": [
    "rdd_dup = sc.parallelize([1, 2, 2, 3, 3, 3, 4, 5])\n",
    "rdd_unique = rdd_dup.distinct()\n",
    "print(rdd_unique.collect())  # [1, 2, 3, 4, 5]\n"
   ]
  },
  {
   "cell_type": "markdown",
   "metadata": {
    "application/vnd.databricks.v1+cell": {
     "cellMetadata": {},
     "inputWidgets": {},
     "nuid": "1ad11e1b-c219-4874-acaa-9f73f282cb46",
     "showTitle": false,
     "tableResultSettingsMap": {},
     "title": ""
    }
   },
   "source": [
    "###union() – Combine two RDDs"
   ]
  },
  {
   "cell_type": "code",
   "execution_count": 0,
   "metadata": {
    "application/vnd.databricks.v1+cell": {
     "cellMetadata": {
      "byteLimit": 2048000,
      "rowLimit": 10000
     },
     "inputWidgets": {},
     "nuid": "73d62668-5048-4f39-9311-44218e3bd4e9",
     "showTitle": false,
     "tableResultSettingsMap": {},
     "title": ""
    }
   },
   "outputs": [
    {
     "output_type": "stream",
     "name": "stdout",
     "output_type": "stream",
     "text": [
      "[1, 2, 3, 4, 5, 6]\n"
     ]
    }
   ],
   "source": [
    "rdd1 = sc.parallelize([1, 2, 3])\n",
    "rdd2 = sc.parallelize([4, 5, 6])\n",
    "rdd_union = rdd1.union(rdd2)\n",
    "print(rdd_union.collect())  # [1, 2, 3, 4, 5, 6]\n"
   ]
  },
  {
   "cell_type": "markdown",
   "metadata": {
    "application/vnd.databricks.v1+cell": {
     "cellMetadata": {},
     "inputWidgets": {},
     "nuid": "f78d2270-990a-42f0-9770-4d46bfe87a69",
     "showTitle": false,
     "tableResultSettingsMap": {},
     "title": ""
    }
   },
   "source": [
    "## **intersection() – Find common elements**"
   ]
  },
  {
   "cell_type": "code",
   "execution_count": 0,
   "metadata": {
    "application/vnd.databricks.v1+cell": {
     "cellMetadata": {
      "byteLimit": 2048000,
      "rowLimit": 10000
     },
     "inputWidgets": {},
     "nuid": "cbb28b0b-c45f-4f68-836f-2fa4bdc15919",
     "showTitle": false,
     "tableResultSettingsMap": {},
     "title": ""
    }
   },
   "outputs": [
    {
     "output_type": "stream",
     "name": "stdout",
     "output_type": "stream",
     "text": [
      "[3, 4]\n"
     ]
    }
   ],
   "source": [
    "rdd3 = sc.parallelize([1, 2, 3, 4])\n",
    "rdd4 = sc.parallelize([3, 4, 5, 6])\n",
    "rdd_inter = rdd3.intersection(rdd4)\n",
    "print(rdd_inter.collect())  # [3, 4]\n"
   ]
  },
  {
   "cell_type": "markdown",
   "metadata": {
    "application/vnd.databricks.v1+cell": {
     "cellMetadata": {},
     "inputWidgets": {},
     "nuid": "b62a4a10-230e-4d52-8240-e165e372d27a",
     "showTitle": false,
     "tableResultSettingsMap": {},
     "title": ""
    }
   },
   "source": [
    "## cartesian() – Cartesian product"
   ]
  },
  {
   "cell_type": "code",
   "execution_count": 0,
   "metadata": {
    "application/vnd.databricks.v1+cell": {
     "cellMetadata": {
      "byteLimit": 2048000,
      "rowLimit": 10000
     },
     "inputWidgets": {},
     "nuid": "58a491a8-5edd-43f6-8f89-6bcb588eb5b5",
     "showTitle": false,
     "tableResultSettingsMap": {},
     "title": ""
    }
   },
   "outputs": [
    {
     "output_type": "stream",
     "name": "stdout",
     "output_type": "stream",
     "text": [
      "[(1, 'a'), (1, 'b'), (2, 'a'), (2, 'b')]\n"
     ]
    }
   ],
   "source": [
    "rdd5 = sc.parallelize([1, 2])\n",
    "rdd6 = sc.parallelize(['a', 'b'])\n",
    "rdd_cart = rdd5.cartesian(rdd6)\n",
    "print(rdd_cart.collect())  # [(1, 'a'), (1, 'b'), (2, 'a'), (2, 'b')]\n"
   ]
  },
  {
   "cell_type": "markdown",
   "metadata": {
    "application/vnd.databricks.v1+cell": {
     "cellMetadata": {},
     "inputWidgets": {},
     "nuid": "8efcfcb4-78b0-4154-89dc-521e309b95c7",
     "showTitle": false,
     "tableResultSettingsMap": {},
     "title": ""
    }
   },
   "source": [
    "# **_# RDD Actions_**"
   ]
  },
  {
   "cell_type": "markdown",
   "metadata": {
    "application/vnd.databricks.v1+cell": {
     "cellMetadata": {},
     "inputWidgets": {},
     "nuid": "56154746-8574-4564-98cc-378b1345c495",
     "showTitle": false,
     "tableResultSettingsMap": {},
     "title": ""
    }
   },
   "source": [
    "## **collect() - Retrieve All Elements**"
   ]
  },
  {
   "cell_type": "code",
   "execution_count": 0,
   "metadata": {
    "application/vnd.databricks.v1+cell": {
     "cellMetadata": {
      "byteLimit": 2048000,
      "rowLimit": 10000
     },
     "inputWidgets": {},
     "nuid": "9c2b255d-dd33-4f17-8b7d-842e89f169d2",
     "showTitle": false,
     "tableResultSettingsMap": {},
     "title": ""
    }
   },
   "outputs": [
    {
     "output_type": "stream",
     "name": "stdout",
     "output_type": "stream",
     "text": [
      "Out[14]: [1, 2, 3, 4, 5, 6, 7, 8, 9, 10]"
     ]
    }
   ],
   "source": [
    "rdd.collect()\n"
   ]
  },
  {
   "cell_type": "markdown",
   "metadata": {
    "application/vnd.databricks.v1+cell": {
     "cellMetadata": {},
     "inputWidgets": {},
     "nuid": "40352bda-83c1-4c4d-8613-715c7ea60593",
     "showTitle": false,
     "tableResultSettingsMap": {},
     "title": ""
    }
   },
   "source": [
    "## **count() - Count Total Elements**"
   ]
  },
  {
   "cell_type": "code",
   "execution_count": 0,
   "metadata": {
    "application/vnd.databricks.v1+cell": {
     "cellMetadata": {
      "byteLimit": 2048000,
      "rowLimit": 10000
     },
     "inputWidgets": {},
     "nuid": "c84c61b0-9984-4d32-a986-b645e6d9fff6",
     "showTitle": false,
     "tableResultSettingsMap": {},
     "title": ""
    }
   },
   "outputs": [
    {
     "output_type": "stream",
     "name": "stdout",
     "output_type": "stream",
     "text": [
      "Out[15]: 10"
     ]
    }
   ],
   "source": [
    "rdd.count()\n"
   ]
  },
  {
   "cell_type": "markdown",
   "metadata": {
    "application/vnd.databricks.v1+cell": {
     "cellMetadata": {},
     "inputWidgets": {},
     "nuid": "bb117eb7-0ce7-4bbe-a049-4a7bd436d065",
     "showTitle": false,
     "tableResultSettingsMap": {},
     "title": ""
    }
   },
   "source": [
    "## **first() - Get First Element**"
   ]
  },
  {
   "cell_type": "code",
   "execution_count": 0,
   "metadata": {
    "application/vnd.databricks.v1+cell": {
     "cellMetadata": {
      "byteLimit": 2048000,
      "rowLimit": 10000
     },
     "inputWidgets": {},
     "nuid": "e24f783d-c151-47e0-ac63-953e8f044b98",
     "showTitle": false,
     "tableResultSettingsMap": {},
     "title": ""
    }
   },
   "outputs": [
    {
     "output_type": "stream",
     "name": "stdout",
     "output_type": "stream",
     "text": [
      "Out[16]: 1"
     ]
    }
   ],
   "source": [
    "rdd.first()\n"
   ]
  },
  {
   "cell_type": "markdown",
   "metadata": {
    "application/vnd.databricks.v1+cell": {
     "cellMetadata": {},
     "inputWidgets": {},
     "nuid": "2dc2e537-1d1e-4ec5-8316-b47d829270fd",
     "showTitle": false,
     "tableResultSettingsMap": {},
     "title": ""
    }
   },
   "source": [
    "## **reduce() - Aggregate Elements**"
   ]
  },
  {
   "cell_type": "code",
   "execution_count": 0,
   "metadata": {
    "application/vnd.databricks.v1+cell": {
     "cellMetadata": {
      "byteLimit": 2048000,
      "rowLimit": 10000
     },
     "inputWidgets": {},
     "nuid": "672574c6-7735-4b8c-814f-68bc428340dd",
     "showTitle": false,
     "tableResultSettingsMap": {},
     "title": ""
    }
   },
   "outputs": [
    {
     "output_type": "stream",
     "name": "stdout",
     "output_type": "stream",
     "text": [
      "Sum of Elements: 55\n"
     ]
    }
   ],
   "source": [
    "rdd_sum = rdd.reduce(lambda x, y: x + y)\n",
    "print(\"Sum of Elements:\", rdd_sum)\n"
   ]
  },
  {
   "cell_type": "markdown",
   "metadata": {
    "application/vnd.databricks.v1+cell": {
     "cellMetadata": {},
     "inputWidgets": {},
     "nuid": "ac6a0905-76df-400e-8d39-34744b1d039b",
     "showTitle": false,
     "tableResultSettingsMap": {},
     "title": ""
    }
   },
   "source": [
    "## **countByValue() - Count Occurrences**"
   ]
  },
  {
   "cell_type": "code",
   "execution_count": 0,
   "metadata": {
    "application/vnd.databricks.v1+cell": {
     "cellMetadata": {
      "byteLimit": 2048000,
      "rowLimit": 10000
     },
     "inputWidgets": {},
     "nuid": "5efe1657-f2e3-4b04-b0fa-feb48ea4a3d9",
     "showTitle": false,
     "tableResultSettingsMap": {},
     "title": ""
    }
   },
   "outputs": [
    {
     "output_type": "stream",
     "name": "stdout",
     "output_type": "stream",
     "text": [
      "Out[18]: defaultdict(int, {1: 1, 2: 1, 3: 1, 4: 1, 5: 1, 6: 1, 7: 1, 8: 1, 9: 1, 10: 1})"
     ]
    }
   ],
   "source": [
    "rdd.countByValue()\n"
   ]
  },
  {
   "cell_type": "markdown",
   "metadata": {
    "application/vnd.databricks.v1+cell": {
     "cellMetadata": {},
     "inputWidgets": {},
     "nuid": "0c389c85-e9a1-4427-9cc2-c61a0acc409a",
     "showTitle": false,
     "tableResultSettingsMap": {},
     "title": ""
    }
   },
   "source": [
    "**_Learning PySpark at BVRIT_**"
   ]
  },
  {
   "cell_type": "markdown",
   "metadata": {
    "application/vnd.databricks.v1+cell": {
     "cellMetadata": {},
     "inputWidgets": {},
     "nuid": "810258e8-3ed2-45e2-b4f0-ba0765f95399",
     "showTitle": false,
     "tableResultSettingsMap": {},
     "title": ""
    }
   },
   "source": [
    "# **#  Key-Value Pair RDDs**"
   ]
  },
  {
   "cell_type": "markdown",
   "metadata": {
    "application/vnd.databricks.v1+cell": {
     "cellMetadata": {},
     "inputWidgets": {},
     "nuid": "29d532ac-1672-4e5a-9df2-423e882e4829",
     "showTitle": false,
     "tableResultSettingsMap": {},
     "title": ""
    }
   },
   "source": [
    "## **# Create Key-Value Pair RDD**"
   ]
  },
  {
   "cell_type": "code",
   "execution_count": 0,
   "metadata": {
    "application/vnd.databricks.v1+cell": {
     "cellMetadata": {
      "byteLimit": 2048000,
      "rowLimit": 10000
     },
     "inputWidgets": {},
     "nuid": "ca1c316d-6fac-42db-9a34-d25bff1236d6",
     "showTitle": false,
     "tableResultSettingsMap": {},
     "title": ""
    }
   },
   "outputs": [],
   "source": [
    "rdd_kv = sc.parallelize([(\"apple\", 3), (\"banana\", 5), (\"apple\", 2), (\"banana\", 7)])\n"
   ]
  },
  {
   "cell_type": "markdown",
   "metadata": {
    "application/vnd.databricks.v1+cell": {
     "cellMetadata": {},
     "inputWidgets": {},
     "nuid": "ba71df34-d344-44e3-84a6-425a177e2002",
     "showTitle": false,
     "tableResultSettingsMap": {},
     "title": ""
    }
   },
   "source": [
    "**groupByKey() - Group Values by Key**"
   ]
  },
  {
   "cell_type": "code",
   "execution_count": 0,
   "metadata": {
    "application/vnd.databricks.v1+cell": {
     "cellMetadata": {
      "byteLimit": 2048000,
      "rowLimit": 10000
     },
     "inputWidgets": {},
     "nuid": "9df2e6ae-1d0c-4c39-816f-4bc2a7bd8f61",
     "showTitle": false,
     "tableResultSettingsMap": {},
     "title": ""
    }
   },
   "outputs": [
    {
     "output_type": "stream",
     "name": "stdout",
     "output_type": "stream",
     "text": [
      "Out[20]: [('apple', [3, 2]), ('banana', [5, 7])]"
     ]
    }
   ],
   "source": [
    "rdd_grouped = rdd_kv.groupByKey().mapValues(list)\n",
    "rdd_grouped.collect()\n"
   ]
  },
  {
   "cell_type": "markdown",
   "metadata": {
    "application/vnd.databricks.v1+cell": {
     "cellMetadata": {},
     "inputWidgets": {},
     "nuid": "a68f77b7-457e-4091-97c0-86493a319e57",
     "showTitle": false,
     "tableResultSettingsMap": {},
     "title": ""
    }
   },
   "source": [
    "**reduceByKey() - Aggregate by Key**"
   ]
  },
  {
   "cell_type": "code",
   "execution_count": 0,
   "metadata": {
    "application/vnd.databricks.v1+cell": {
     "cellMetadata": {
      "byteLimit": 2048000,
      "rowLimit": 10000
     },
     "inputWidgets": {},
     "nuid": "bc30cb18-02bb-45b1-ba56-81cd801373e0",
     "showTitle": false,
     "tableResultSettingsMap": {},
     "title": ""
    }
   },
   "outputs": [
    {
     "output_type": "stream",
     "name": "stdout",
     "output_type": "stream",
     "text": [
      "Out[21]: [('apple', 5), ('banana', 12)]"
     ]
    }
   ],
   "source": [
    "rdd_reduced = rdd_kv.reduceByKey(lambda a, b: a + b)\n",
    "rdd_reduced.collect()\n"
   ]
  },
  {
   "cell_type": "markdown",
   "metadata": {
    "application/vnd.databricks.v1+cell": {
     "cellMetadata": {},
     "inputWidgets": {},
     "nuid": "c2ca9d1e-e151-43a8-bf20-29963a248c6b",
     "showTitle": false,
     "tableResultSettingsMap": {},
     "title": ""
    }
   },
   "source": [
    "**Caching & Persistence**"
   ]
  },
  {
   "cell_type": "code",
   "execution_count": 0,
   "metadata": {
    "application/vnd.databricks.v1+cell": {
     "cellMetadata": {
      "byteLimit": 2048000,
      "rowLimit": 10000
     },
     "inputWidgets": {},
     "nuid": "dccfbbb8-f56f-465b-8f88-701dd6d9e32d",
     "showTitle": false,
     "tableResultSettingsMap": {},
     "title": ""
    }
   },
   "outputs": [
    {
     "output_type": "stream",
     "name": "stdout",
     "output_type": "stream",
     "text": [
      "Out[22]: 10"
     ]
    }
   ],
   "source": [
    "rdd.persist()\n",
    "rdd.count()  # Forces execution\n"
   ]
  },
  {
   "cell_type": "markdown",
   "metadata": {
    "application/vnd.databricks.v1+cell": {
     "cellMetadata": {},
     "inputWidgets": {},
     "nuid": "8ed547be-b706-42fd-beae-5bf64db3bc27",
     "showTitle": false,
     "tableResultSettingsMap": {},
     "title": ""
    }
   },
   "source": [
    "**Partitioning & Parallelism**"
   ]
  },
  {
   "cell_type": "code",
   "execution_count": 0,
   "metadata": {
    "application/vnd.databricks.v1+cell": {
     "cellMetadata": {
      "byteLimit": 2048000,
      "rowLimit": 10000
     },
     "inputWidgets": {},
     "nuid": "11b480f4-db53-4a65-acb5-c9a84575b5d7",
     "showTitle": false,
     "tableResultSettingsMap": {},
     "title": ""
    }
   },
   "outputs": [
    {
     "output_type": "stream",
     "name": "stdout",
     "output_type": "stream",
     "text": [
      "Partitions: 8\n"
     ]
    }
   ],
   "source": [
    "print(\"Partitions:\", rdd.getNumPartitions())\n"
   ]
  },
  {
   "cell_type": "markdown",
   "metadata": {
    "application/vnd.databricks.v1+cell": {
     "cellMetadata": {},
     "inputWidgets": {},
     "nuid": "053c2bb8-f3e9-485c-835d-06be75973f67",
     "showTitle": false,
     "tableResultSettingsMap": {},
     "title": ""
    }
   },
   "source": [
    "**Repartition RDD**"
   ]
  },
  {
   "cell_type": "code",
   "execution_count": 0,
   "metadata": {
    "application/vnd.databricks.v1+cell": {
     "cellMetadata": {
      "byteLimit": 2048000,
      "rowLimit": 10000
     },
     "inputWidgets": {},
     "nuid": "ecaee02f-ae05-4cec-85cd-2a85622bc631",
     "showTitle": false,
     "tableResultSettingsMap": {},
     "title": ""
    }
   },
   "outputs": [
    {
     "output_type": "stream",
     "name": "stdout",
     "output_type": "stream",
     "text": [
      "New Partitions: 4\n"
     ]
    }
   ],
   "source": [
    "rdd_repartitioned = rdd.repartition(4)\n",
    "print(\"New Partitions:\", rdd_repartitioned.getNumPartitions())\n"
   ]
  },
  {
   "cell_type": "markdown",
   "metadata": {
    "application/vnd.databricks.v1+cell": {
     "cellMetadata": {},
     "inputWidgets": {},
     "nuid": "29253bf0-d193-40c5-b0f4-e1cf5f1fc3aa",
     "showTitle": false,
     "tableResultSettingsMap": {},
     "title": ""
    }
   },
   "source": [
    "**Saving & Loading RDDs**"
   ]
  },
  {
   "cell_type": "code",
   "execution_count": 0,
   "metadata": {
    "application/vnd.databricks.v1+cell": {
     "cellMetadata": {
      "byteLimit": 2048000,
      "rowLimit": 10000
     },
     "inputWidgets": {},
     "nuid": "d17bdb9a-8eb2-4139-8f8e-1edf462ea47c",
     "showTitle": false,
     "tableResultSettingsMap": {},
     "title": ""
    }
   },
   "outputs": [],
   "source": [
    "rdd.saveAsTextFile(\"/FileStore/output_rdd\")\n"
   ]
  },
  {
   "cell_type": "markdown",
   "metadata": {
    "application/vnd.databricks.v1+cell": {
     "cellMetadata": {},
     "inputWidgets": {},
     "nuid": "283df765-612d-4e54-a995-ab757fa4bd93",
     "showTitle": false,
     "tableResultSettingsMap": {},
     "title": ""
    }
   },
   "source": [
    "**Read Saved File**"
   ]
  },
  {
   "cell_type": "code",
   "execution_count": 0,
   "metadata": {
    "application/vnd.databricks.v1+cell": {
     "cellMetadata": {},
     "inputWidgets": {},
     "nuid": "0e7734ec-d905-47ca-9d80-5eac097d1ff9",
     "showTitle": false,
     "tableResultSettingsMap": {},
     "title": ""
    }
   },
   "outputs": [],
   "source": [
    "saved_rdd = sc.textFile(\"/FileStore/output_rdd\")\n",
    "saved_rdd.collect()\n"
   ]
  },
  {
   "cell_type": "code",
   "execution_count": 0,
   "metadata": {
    "application/vnd.databricks.v1+cell": {
     "cellMetadata": {
      "byteLimit": 2048000,
      "rowLimit": 10000
     },
     "inputWidgets": {},
     "nuid": "414c4870-2978-4bdd-ba8c-aa83fc009daf",
     "showTitle": false,
     "tableResultSettingsMap": {},
     "title": ""
    }
   },
   "outputs": [
    {
     "output_type": "stream",
     "name": "stdout",
     "output_type": "stream",
     "text": [
      "['Apache Spark is a fast and powerful engine for big data processing.', 'Spark runs on Hadoop, Kubernetes, and standalone clusters.', 'Big data analytics is a key focus in the modern world.', 'Databricks provides an optimized environment for Apache Spark.']\n"
     ]
    }
   ],
   "source": [
    "# Creating an RDD from a text file\n",
    "rdd_text = sc.textFile(\"/FileStore/tables/sample5.txt\")  # Ensure \"sample.txt\" is in the working directory\n",
    "\n",
    "# Show first 5 lines of the text file\n",
    "print(rdd_text.collect())\n"
   ]
  },
  {
   "cell_type": "code",
   "execution_count": 0,
   "metadata": {
    "application/vnd.databricks.v1+cell": {
     "cellMetadata": {
      "byteLimit": 2048000,
      "rowLimit": 10000
     },
     "inputWidgets": {},
     "nuid": "6cd8fd70-5b5a-4c26-8963-fc503e9bffec",
     "showTitle": false,
     "tableResultSettingsMap": {},
     "title": ""
    }
   },
   "outputs": [
    {
     "output_type": "stream",
     "name": "stdout",
     "output_type": "stream",
     "text": [
      "Out[6]: ['Apache',\n 'Spark',\n 'is',\n 'a',\n 'fast',\n 'and',\n 'powerful',\n 'engine',\n 'for',\n 'big',\n 'data',\n 'processing.',\n 'Spark',\n 'runs',\n 'on',\n 'Hadoop,',\n 'Kubernetes,',\n 'and',\n 'standalone',\n 'clusters.',\n 'Big',\n 'data',\n 'analytics',\n 'is',\n 'a',\n 'key',\n 'focus',\n 'in',\n 'the',\n 'modern',\n 'world.',\n 'Databricks',\n 'provides',\n 'an',\n 'optimized',\n 'environment',\n 'for',\n 'Apache',\n 'Spark.']"
     ]
    }
   ],
   "source": [
    "rdd_text = sc.textFile(\"/FileStore/tables/sample5.txt\")\n",
    "\n",
    "# Word count logic\n",
    "rdd_words = rdd_text.flatMap(lambda line: line.split(\" \"))\n",
    "rdd_words.collect()\n",
    "\n"
   ]
  },
  {
   "cell_type": "code",
   "execution_count": 0,
   "metadata": {
    "application/vnd.databricks.v1+cell": {
     "cellMetadata": {
      "byteLimit": 2048000,
      "rowLimit": 10000
     },
     "inputWidgets": {},
     "nuid": "cb56a7a9-ee8d-4c88-99a9-4cd7029ac581",
     "showTitle": false,
     "tableResultSettingsMap": {},
     "title": ""
    }
   },
   "outputs": [
    {
     "output_type": "stream",
     "name": "stdout",
     "output_type": "stream",
     "text": [
      "Out[7]: [('apache', 1),\n ('spark', 1),\n ('is', 1),\n ('a', 1),\n ('fast', 1),\n ('and', 1),\n ('powerful', 1),\n ('engine', 1),\n ('for', 1),\n ('big', 1),\n ('data', 1),\n ('processing.', 1),\n ('spark', 1),\n ('runs', 1),\n ('on', 1),\n ('hadoop,', 1),\n ('kubernetes,', 1),\n ('and', 1),\n ('standalone', 1),\n ('clusters.', 1),\n ('big', 1),\n ('data', 1),\n ('analytics', 1),\n ('is', 1),\n ('a', 1),\n ('key', 1),\n ('focus', 1),\n ('in', 1),\n ('the', 1),\n ('modern', 1),\n ('world.', 1),\n ('databricks', 1),\n ('provides', 1),\n ('an', 1),\n ('optimized', 1),\n ('environment', 1),\n ('for', 1),\n ('apache', 1),\n ('spark.', 1)]"
     ]
    }
   ],
   "source": [
    "rdd_word_pairs = rdd_words.map(lambda word: (word.lower(), 1))\n",
    "\n",
    "rdd_word_pairs.collect()\n"
   ]
  },
  {
   "cell_type": "code",
   "execution_count": 0,
   "metadata": {
    "application/vnd.databricks.v1+cell": {
     "cellMetadata": {
      "byteLimit": 2048000,
      "rowLimit": 10000
     },
     "inputWidgets": {},
     "nuid": "ab194c9c-e6c8-4ae5-84df-24b48ee19d84",
     "showTitle": false,
     "tableResultSettingsMap": {},
     "title": ""
    }
   },
   "outputs": [
    {
     "output_type": "stream",
     "name": "stdout",
     "output_type": "stream",
     "text": [
      "Word Count Results: [('is', 2), ('engine', 1), ('hadoop,', 1), ('kubernetes,', 1), ('analytics', 1), ('in', 1), ('modern', 1), ('provides', 1), ('an', 1), ('optimized', 1)]\n"
     ]
    }
   ],
   "source": [
    "rdd_word_counts = rdd_word_pairs.reduceByKey(lambda a, b: a + b)\n",
    "\n",
    "# Display results\n",
    "print(\"Word Count Results:\", rdd_word_counts.take(10))"
   ]
  },
  {
   "cell_type": "code",
   "execution_count": 0,
   "metadata": {
    "application/vnd.databricks.v1+cell": {
     "cellMetadata": {
      "byteLimit": 2048000,
      "rowLimit": 10000
     },
     "inputWidgets": {},
     "nuid": "aeaa7854-10e0-4060-bd80-d28978b91d9c",
     "showTitle": false,
     "tableResultSettingsMap": {},
     "title": ""
    }
   },
   "outputs": [
    {
     "output_type": "stream",
     "name": "stdout",
     "output_type": "stream",
     "text": [
      "b'(2) PythonRDD[39] at RDD at PythonRDD.scala:58 []\\n |  MapPartitionsRDD[36] at mapPartitions at PythonRDD.scala:205 []\\n |  ShuffledRDD[35] at partitionBy at NativeMethodAccessorImpl.java:0 []\\n +-(2) PairwiseRDD[34] at wrapper at <command-2836883212980610>:6 []\\n    |  PythonRDD[33] at wrapper at <command-2836883212980610>:6 []\\n    |  /FileStore/tables/sample5.txt MapPartitionsRDD[32] at textFile at NativeMethodAccessorImpl.java:0 []\\n    |  /FileStore/tables/sample5.txt HadoopRDD[31] at textFile at NativeMethodAccessorImpl.java:0 []'\n"
     ]
    }
   ],
   "source": [
    "# Show DAG as text output\n",
    "print(rdd_word_counts.toDebugString())"
   ]
  },
  {
   "cell_type": "code",
   "execution_count": 0,
   "metadata": {
    "application/vnd.databricks.v1+cell": {
     "cellMetadata": {
      "byteLimit": 2048000,
      "rowLimit": 10000
     },
     "inputWidgets": {},
     "nuid": "fdfe04e3-5b33-4c4d-9a8b-ba254622fd71",
     "showTitle": false,
     "tableResultSettingsMap": {},
     "title": ""
    }
   },
   "outputs": [
    {
     "output_type": "stream",
     "name": "stdout",
     "output_type": "stream",
     "text": [
      "Out[11]: [('is', 2),\n ('engine', 1),\n ('hadoop,', 1),\n ('kubernetes,', 1),\n ('analytics', 1),\n ('in', 1),\n ('modern', 1),\n ('provides', 1),\n ('an', 1),\n ('optimized', 1),\n ('spark.', 1),\n ('apache', 2),\n ('spark', 2),\n ('a', 2),\n ('fast', 1),\n ('and', 2),\n ('powerful', 1),\n ('for', 2),\n ('big', 2),\n ('data', 2),\n ('processing.', 1),\n ('runs', 1),\n ('on', 1),\n ('standalone', 1),\n ('clusters.', 1),\n ('key', 1),\n ('focus', 1),\n ('the', 1),\n ('world.', 1),\n ('databricks', 1),\n ('environment', 1)]"
     ]
    }
   ],
   "source": [
    "rdd_word_counts.collect()"
   ]
  },
  {
   "cell_type": "code",
   "execution_count": 0,
   "metadata": {
    "application/vnd.databricks.v1+cell": {
     "cellMetadata": {
      "byteLimit": 2048000,
      "rowLimit": 10000
     },
     "inputWidgets": {},
     "nuid": "eca06ee5-9905-4cde-9820-07e97fe0f3da",
     "showTitle": false,
     "tableResultSettingsMap": {},
     "title": ""
    }
   },
   "outputs": [
    {
     "output_type": "stream",
     "name": "stdout",
     "output_type": "stream",
     "text": [
      "== Parsed Logical Plan ==\nLogicalRDD [_1#13, _2#14L], false\n\n== Analyzed Logical Plan ==\n_1: string, _2: bigint\nLogicalRDD [_1#13, _2#14L], false\n\n== Optimized Logical Plan ==\nLogicalRDD [_1#13, _2#14L], false\n\n== Physical Plan ==\n*(1) Scan ExistingRDD[_1#13,_2#14L]\n\n"
     ]
    }
   ],
   "source": [
    "rdd_word_counts.toDF().explain(True)"
   ]
  }
 ],
 "metadata": {
  "application/vnd.databricks.v1+notebook": {
   "computePreferences": null,
   "dashboards": [],
   "environmentMetadata": {
    "base_environment": "",
    "client": "1"
   },
   "language": "python",
   "notebookMetadata": {
    "pythonIndentUnit": 4
   },
   "notebookName": "Bhapra-1",
   "widgets": {}
  }
 },
 "nbformat": 4,
 "nbformat_minor": 0
}
